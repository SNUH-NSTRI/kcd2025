{
 "cells": [
  {
   "cell_type": "code",
   "execution_count": 19,
   "metadata": {},
   "outputs": [],
   "source": [
    "import pandas as pd\n",
    "import numpy as np\n",
    "from pathlib import Path\n",
    "from sklearn.preprocessing import OneHotEncoder, StandardScaler\n",
    "from sklearn.decomposition import PCA\n",
    "from sklearn.metrics.pairwise import cosine_similarity"
   ]
  },
  {
   "cell_type": "code",
   "execution_count": 20,
   "metadata": {},
   "outputs": [],
   "source": [
    "def load_data(base_dir=\"./data\"):\n",
    "    base = Path(base_dir)\n",
    "    dfs = {\n",
    "        \"patients\": pd.read_csv(base / \"syn_patients.csv\"),\n",
    "        \"admissions\": pd.read_csv(base / \"syn_admissions.csv\"),\n",
    "        \"diagnoses\": pd.read_csv(base / \"syn_diagnoses_icd.csv\"),\n",
    "        \"icustays\": pd.read_csv(base / \"syn_icustays.csv\"),\n",
    "        \"labevents\": pd.read_csv(base / \"syn_labevents.csv\"),\n",
    "        \"chartevents\": pd.read_csv(base / \"syn_chartevents.csv\"),\n",
    "        \"outputevents\": pd.read_csv(base / \"syn_outputevents.csv\")\n",
    "    }\n",
    "    print(\"Data loaded\")\n",
    "    return dfs"
   ]
  },
  {
   "cell_type": "code",
   "execution_count": 21,
   "metadata": {},
   "outputs": [],
   "source": [
    "def extract_demographics(patients, admissions):\n",
    "    #기본 demographic 및 admission 관련 feature 생성\n",
    "    demo = admissions.merge(patients, on=\"subject_id\", how=\"left\")\n",
    "\n",
    "    # 나이, 성별\n",
    "    demo[\"sex\"] = demo[\"sex\"].map({\"M\": 1, \"F\": 0})\n",
    "    demo[\"anchor_age\"] = demo[\"anchor_age\"].fillna(demo[\"anchor_age\"].median())\n",
    "\n",
    "    # 범주형 feature (예: 보험유형, 입원타입)\n",
    "    cat_cols = [\"admission_type\", \"insurance\", \"ethnicity\"]\n",
    "    demo[cat_cols] = demo[cat_cols].fillna(\"Unknown\")\n",
    "\n",
    "    enc = OneHotEncoder(sparse=False, handle_unknown=\"ignore\")\n",
    "    encoded = enc.fit_transform(demo[cat_cols])\n",
    "    encoded_df = pd.DataFrame(encoded, columns=enc.get_feature_names_out(cat_cols))\n",
    "\n",
    "    demo_features = pd.concat([\n",
    "        demo[[\"hadm_id\", \"anchor_age\", \"sex\"]].reset_index(drop=True),\n",
    "        encoded_df\n",
    "    ], axis=1)\n",
    "\n",
    "    demo_features = demo_features.groupby(\"hadm_id\").first().reset_index()\n",
    "    return demo_features\n",
    "\n",
    "\n",
    "def aggregate_labevents(labevents):\n",
    "    #각 입원(hadm_id)별 주요 lab 통계\n",
    "    lab_agg = labevents.groupby([\"hadm_id\", \"itemid\"])[\"valuenum\"].agg(['mean','std','min','max','count']).unstack(fill_value=0)\n",
    "    lab_agg.columns = [f\"{col[0]}_{col[1]}\" for col in lab_agg.columns]\n",
    "    lab_agg.reset_index(inplace=True)\n",
    "    return lab_agg\n",
    "\n",
    "\n",
    "def aggregate_chartevents(chartevents):\n",
    "    #chart event도 비슷하게 요약\n",
    "    chart_agg = chartevents.groupby([\"hadm_id\", \"itemid\"])[\"valuenum\"].agg(['mean','std','min','max']).unstack(fill_value=0)\n",
    "    chart_agg.columns = [f\"chart_{col[0]}_{col[1]}\" for col in chart_agg.columns]\n",
    "    chart_agg.reset_index(inplace=True)\n",
    "    return chart_agg\n",
    "\n",
    "\n",
    "def extract_diagnosis_features(diagnoses):\n",
    "    #ICD 진단을 원 핫 인코딩 처럼 수정\n",
    "    diag = diagnoses.groupby(\"hadm_id\")[\"icd_code\"].apply(list).reset_index()\n",
    "    all_codes = sorted(set(code for lst in diag.icd_code for code in lst))\n",
    "    matrix = np.zeros((len(diag), len(all_codes)))\n",
    "    code_index = {code: i for i, code in enumerate(all_codes)}\n",
    "\n",
    "    for i, codes in enumerate(diag.icd_code):\n",
    "        for c in codes:\n",
    "            matrix[i, code_index[c]] = 1\n",
    "    diag_feat = pd.DataFrame(matrix, columns=[f\"diag_{c}\" for c in all_codes])\n",
    "    diag_feat[\"hadm_id\"] = diag[\"hadm_id\"]\n",
    "    return diag_feat\n",
    "\n",
    "\n",
    "def extract_icustay_features(icustays):\n",
    "    #ICU 체류 관련 feature\n",
    "    icu_agg = icustays.groupby(\"hadm_id\").agg(\n",
    "        icu_count=(\"stay_id\", \"count\"),\n",
    "        total_icu_los=(\"los\", \"sum\")\n",
    "    ).reset_index()\n",
    "    return icu_agg\n",
    "\n",
    "\n",
    "def aggregate_outputevents(outputs):\n",
    "    #출력량 등 요약\n",
    "    out_agg = outputs.groupby(\"hadm_id\")[\"value\"].agg([\"sum\", \"mean\", \"count\"]).reset_index()\n",
    "    out_agg.rename(columns={\"sum\":\"output_sum\", \"mean\":\"output_mean\", \"count\":\"output_count\"}, inplace=True)\n",
    "    return out_agg"
   ]
  },
  {
   "cell_type": "code",
   "execution_count": 22,
   "metadata": {},
   "outputs": [],
   "source": [
    "def merge_features(demo, diag, labs, charts, icu, outputs):\n",
    "    dfs = [demo, diag, labs, charts, icu, outputs]\n",
    "    from functools import reduce\n",
    "    df = reduce(lambda left, right: pd.merge(left, right, on=\"hadm_id\", how=\"outer\"), dfs)\n",
    "    df = df.fillna(0)\n",
    "    return df\n",
    "\n",
    "\n",
    "def scale_features(df):\n",
    "    numeric = df.drop(columns=[\"hadm_id\"])\n",
    "    scaler = StandardScaler()\n",
    "    X = scaler.fit_transform(numeric)\n",
    "    return pd.DataFrame(X, columns=numeric.columns), scaler"
   ]
  },
  {
   "cell_type": "code",
   "execution_count": 23,
   "metadata": {},
   "outputs": [],
   "source": [
    "def compute_similarity(X_scaled, hadm_ids):\n",
    "    sim = cosine_similarity(X_scaled)\n",
    "    sim_df = pd.DataFrame(sim, index=hadm_ids, columns=hadm_ids)\n",
    "    return sim_df"
   ]
  },
  {
   "cell_type": "code",
   "execution_count": 24,
   "metadata": {},
   "outputs": [
    {
     "name": "stdout",
     "output_type": "stream",
     "text": [
      "Data loaded\n",
      "Feature extraction complete\n"
     ]
    }
   ],
   "source": [
    "\n",
    "if __name__ == \"__main__\":\n",
    "    dfs = load_data(\"./data\")\n",
    "\n",
    "    demo = extract_demographics(dfs[\"patients\"], dfs[\"admissions\"])\n",
    "    diag = extract_diagnosis_features(dfs[\"diagnoses\"])\n",
    "    labs = aggregate_labevents(dfs[\"labevents\"])\n",
    "    charts = aggregate_chartevents(dfs[\"chartevents\"])\n",
    "    icu = extract_icustay_features(dfs[\"icustays\"])\n",
    "    outputs = aggregate_outputevents(dfs[\"outputevents\"])\n",
    "\n",
    "    features = merge_features(demo, diag, labs, charts, icu, outputs)\n",
    "    X_scaled, scaler = scale_features(features)\n",
    "    sim_df = compute_similarity(X_scaled, features[\"hadm_id\"])\n",
    "\n",
    "    # 저장\n",
    "    features.to_csv(\"./patient_features.csv\", index=False)\n",
    "    sim_df.to_csv(\"./patient_similarity_matrix.csv\")\n",
    "    print(\"Feature extraction complete\")"
   ]
  }
 ],
 "metadata": {
  "kernelspec": {
   "display_name": "base",
   "language": "python",
   "name": "python3"
  },
  "language_info": {
   "codemirror_mode": {
    "name": "ipython",
    "version": 3
   },
   "file_extension": ".py",
   "mimetype": "text/x-python",
   "name": "python",
   "nbconvert_exporter": "python",
   "pygments_lexer": "ipython3",
   "version": "3.9.12"
  }
 },
 "nbformat": 4,
 "nbformat_minor": 2
}
